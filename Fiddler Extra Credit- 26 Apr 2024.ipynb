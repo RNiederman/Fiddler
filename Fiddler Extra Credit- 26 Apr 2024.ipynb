{
 "cells": [
  {
   "cell_type": "markdown",
   "id": "8153be22-2c06-40f3-9112-e17e21f61a5b",
   "metadata": {},
   "source": [
    "https://thefiddler.substack.com/p/can-you-play-the-price-is-right-continuously"
   ]
  },
  {
   "cell_type": "code",
   "execution_count": 1,
   "id": "d5a9ddce-b2de-47c3-a850-918f00052908",
   "metadata": {},
   "outputs": [],
   "source": [
    "import numpy as np\n",
    "import pandas as pd\n",
    "import matplotlib.pyplot as plt\n",
    "from joblib import Parallel, delayed\n",
    "from tqdm.notebook import trange"
   ]
  },
  {
   "cell_type": "code",
   "execution_count": 2,
   "id": "b6ae9c36-8564-4c79-91c8-e5d04a888e6c",
   "metadata": {},
   "outputs": [],
   "source": [
    "def fiddler_tpir_wheel_xc(players=3, intial_threshold=1/2):\n",
    "\n",
    "    spins_a = np.random.uniform(low=0, high=1, size=2)\n",
    "    threshold = intial_threshold\n",
    "\n",
    "    ledger = []\n",
    "\n",
    "    player_a = spins_a[0]\n",
    "    if player_a < threshold:\n",
    "        player_a += spins_a[1]\n",
    "    if player_a > 1:\n",
    "        player_a = 0\n",
    "\n",
    "    ledger.append(player_a)\n",
    "\n",
    "    threshold = max(intial_threshold, player_a)\n",
    "    player_set = range(1, players)\n",
    "\n",
    "    for p in player_set:\n",
    "        spins_z = np.random.uniform(low=0, high=1, size=2)\n",
    "\n",
    "        # The last contestant only needs to beat the highest score\n",
    "        if p == max(player_set):\n",
    "            threshold = max(ledger)\n",
    "\n",
    "        player_z = spins_z[0]\n",
    "        if player_z < threshold:\n",
    "            player_z += spins_z[1]\n",
    "        if player_z > 1:\n",
    "            player_z = 0\n",
    "\n",
    "        ledger.append(player_z)\n",
    "\n",
    "        threshold = max(ledger)\n",
    "        threshold = max(threshold, intial_threshold)\n",
    "\n",
    "    winner = max(ledger)\n",
    "    a_wins = player_a == winner\n",
    "    return a_wins"
   ]
  },
  {
   "cell_type": "code",
   "execution_count": 3,
   "id": "b5bcb082-9c15-4b57-9a6a-fc2fc85f6d0a",
   "metadata": {},
   "outputs": [],
   "source": [
    "TRIALS = 10**6\n",
    "contestant_set = range(2, 31)\n",
    "contestants = []\n",
    "register = []"
   ]
  },
  {
   "cell_type": "code",
   "execution_count": 4,
   "id": "8c495005-c862-4825-8637-3181e2f67281",
   "metadata": {},
   "outputs": [
    {
     "data": {
      "application/vnd.jupyter.widget-view+json": {
       "model_id": "",
       "version_major": 2,
       "version_minor": 0
      },
      "text/plain": [
       "2 Contestants:   0%|          | 0.00/1.00M [00:00<?, ?it/s]"
      ]
     },
     "metadata": {},
     "output_type": "display_data"
    },
    {
     "data": {
      "application/vnd.jupyter.widget-view+json": {
       "model_id": "",
       "version_major": 2,
       "version_minor": 0
      },
      "text/plain": [
       "3 Contestants:   0%|          | 0.00/1.00M [00:00<?, ?it/s]"
      ]
     },
     "metadata": {},
     "output_type": "display_data"
    },
    {
     "data": {
      "application/vnd.jupyter.widget-view+json": {
       "model_id": "",
       "version_major": 2,
       "version_minor": 0
      },
      "text/plain": [
       "4 Contestants:   0%|          | 0.00/1.00M [00:00<?, ?it/s]"
      ]
     },
     "metadata": {},
     "output_type": "display_data"
    },
    {
     "data": {
      "application/vnd.jupyter.widget-view+json": {
       "model_id": "",
       "version_major": 2,
       "version_minor": 0
      },
      "text/plain": [
       "5 Contestants:   0%|          | 0.00/1.00M [00:00<?, ?it/s]"
      ]
     },
     "metadata": {},
     "output_type": "display_data"
    },
    {
     "data": {
      "application/vnd.jupyter.widget-view+json": {
       "model_id": "",
       "version_major": 2,
       "version_minor": 0
      },
      "text/plain": [
       "6 Contestants:   0%|          | 0.00/1.00M [00:00<?, ?it/s]"
      ]
     },
     "metadata": {},
     "output_type": "display_data"
    },
    {
     "data": {
      "application/vnd.jupyter.widget-view+json": {
       "model_id": "",
       "version_major": 2,
       "version_minor": 0
      },
      "text/plain": [
       "7 Contestants:   0%|          | 0.00/1.00M [00:00<?, ?it/s]"
      ]
     },
     "metadata": {},
     "output_type": "display_data"
    },
    {
     "data": {
      "application/vnd.jupyter.widget-view+json": {
       "model_id": "",
       "version_major": 2,
       "version_minor": 0
      },
      "text/plain": [
       "8 Contestants:   0%|          | 0.00/1.00M [00:00<?, ?it/s]"
      ]
     },
     "metadata": {},
     "output_type": "display_data"
    },
    {
     "data": {
      "application/vnd.jupyter.widget-view+json": {
       "model_id": "",
       "version_major": 2,
       "version_minor": 0
      },
      "text/plain": [
       "9 Contestants:   0%|          | 0.00/1.00M [00:00<?, ?it/s]"
      ]
     },
     "metadata": {},
     "output_type": "display_data"
    },
    {
     "data": {
      "application/vnd.jupyter.widget-view+json": {
       "model_id": "",
       "version_major": 2,
       "version_minor": 0
      },
      "text/plain": [
       "10 Contestants:   0%|          | 0.00/1.00M [00:00<?, ?it/s]"
      ]
     },
     "metadata": {},
     "output_type": "display_data"
    },
    {
     "data": {
      "application/vnd.jupyter.widget-view+json": {
       "model_id": "",
       "version_major": 2,
       "version_minor": 0
      },
      "text/plain": [
       "11 Contestants:   0%|          | 0.00/1.00M [00:00<?, ?it/s]"
      ]
     },
     "metadata": {},
     "output_type": "display_data"
    },
    {
     "data": {
      "application/vnd.jupyter.widget-view+json": {
       "model_id": "",
       "version_major": 2,
       "version_minor": 0
      },
      "text/plain": [
       "12 Contestants:   0%|          | 0.00/1.00M [00:00<?, ?it/s]"
      ]
     },
     "metadata": {},
     "output_type": "display_data"
    },
    {
     "data": {
      "application/vnd.jupyter.widget-view+json": {
       "model_id": "",
       "version_major": 2,
       "version_minor": 0
      },
      "text/plain": [
       "13 Contestants:   0%|          | 0.00/1.00M [00:00<?, ?it/s]"
      ]
     },
     "metadata": {},
     "output_type": "display_data"
    },
    {
     "data": {
      "application/vnd.jupyter.widget-view+json": {
       "model_id": "",
       "version_major": 2,
       "version_minor": 0
      },
      "text/plain": [
       "14 Contestants:   0%|          | 0.00/1.00M [00:00<?, ?it/s]"
      ]
     },
     "metadata": {},
     "output_type": "display_data"
    },
    {
     "data": {
      "application/vnd.jupyter.widget-view+json": {
       "model_id": "",
       "version_major": 2,
       "version_minor": 0
      },
      "text/plain": [
       "15 Contestants:   0%|          | 0.00/1.00M [00:00<?, ?it/s]"
      ]
     },
     "metadata": {},
     "output_type": "display_data"
    },
    {
     "data": {
      "application/vnd.jupyter.widget-view+json": {
       "model_id": "",
       "version_major": 2,
       "version_minor": 0
      },
      "text/plain": [
       "16 Contestants:   0%|          | 0.00/1.00M [00:00<?, ?it/s]"
      ]
     },
     "metadata": {},
     "output_type": "display_data"
    },
    {
     "data": {
      "application/vnd.jupyter.widget-view+json": {
       "model_id": "",
       "version_major": 2,
       "version_minor": 0
      },
      "text/plain": [
       "17 Contestants:   0%|          | 0.00/1.00M [00:00<?, ?it/s]"
      ]
     },
     "metadata": {},
     "output_type": "display_data"
    },
    {
     "data": {
      "application/vnd.jupyter.widget-view+json": {
       "model_id": "",
       "version_major": 2,
       "version_minor": 0
      },
      "text/plain": [
       "18 Contestants:   0%|          | 0.00/1.00M [00:00<?, ?it/s]"
      ]
     },
     "metadata": {},
     "output_type": "display_data"
    },
    {
     "data": {
      "application/vnd.jupyter.widget-view+json": {
       "model_id": "",
       "version_major": 2,
       "version_minor": 0
      },
      "text/plain": [
       "19 Contestants:   0%|          | 0.00/1.00M [00:00<?, ?it/s]"
      ]
     },
     "metadata": {},
     "output_type": "display_data"
    },
    {
     "data": {
      "application/vnd.jupyter.widget-view+json": {
       "model_id": "",
       "version_major": 2,
       "version_minor": 0
      },
      "text/plain": [
       "20 Contestants:   0%|          | 0.00/1.00M [00:00<?, ?it/s]"
      ]
     },
     "metadata": {},
     "output_type": "display_data"
    },
    {
     "data": {
      "application/vnd.jupyter.widget-view+json": {
       "model_id": "",
       "version_major": 2,
       "version_minor": 0
      },
      "text/plain": [
       "21 Contestants:   0%|          | 0.00/1.00M [00:00<?, ?it/s]"
      ]
     },
     "metadata": {},
     "output_type": "display_data"
    },
    {
     "data": {
      "application/vnd.jupyter.widget-view+json": {
       "model_id": "",
       "version_major": 2,
       "version_minor": 0
      },
      "text/plain": [
       "22 Contestants:   0%|          | 0.00/1.00M [00:00<?, ?it/s]"
      ]
     },
     "metadata": {},
     "output_type": "display_data"
    },
    {
     "data": {
      "application/vnd.jupyter.widget-view+json": {
       "model_id": "",
       "version_major": 2,
       "version_minor": 0
      },
      "text/plain": [
       "23 Contestants:   0%|          | 0.00/1.00M [00:00<?, ?it/s]"
      ]
     },
     "metadata": {},
     "output_type": "display_data"
    },
    {
     "data": {
      "application/vnd.jupyter.widget-view+json": {
       "model_id": "",
       "version_major": 2,
       "version_minor": 0
      },
      "text/plain": [
       "24 Contestants:   0%|          | 0.00/1.00M [00:00<?, ?it/s]"
      ]
     },
     "metadata": {},
     "output_type": "display_data"
    },
    {
     "data": {
      "application/vnd.jupyter.widget-view+json": {
       "model_id": "",
       "version_major": 2,
       "version_minor": 0
      },
      "text/plain": [
       "25 Contestants:   0%|          | 0.00/1.00M [00:00<?, ?it/s]"
      ]
     },
     "metadata": {},
     "output_type": "display_data"
    },
    {
     "data": {
      "application/vnd.jupyter.widget-view+json": {
       "model_id": "",
       "version_major": 2,
       "version_minor": 0
      },
      "text/plain": [
       "26 Contestants:   0%|          | 0.00/1.00M [00:00<?, ?it/s]"
      ]
     },
     "metadata": {},
     "output_type": "display_data"
    },
    {
     "data": {
      "application/vnd.jupyter.widget-view+json": {
       "model_id": "",
       "version_major": 2,
       "version_minor": 0
      },
      "text/plain": [
       "27 Contestants:   0%|          | 0.00/1.00M [00:00<?, ?it/s]"
      ]
     },
     "metadata": {},
     "output_type": "display_data"
    },
    {
     "data": {
      "application/vnd.jupyter.widget-view+json": {
       "model_id": "",
       "version_major": 2,
       "version_minor": 0
      },
      "text/plain": [
       "28 Contestants:   0%|          | 0.00/1.00M [00:00<?, ?it/s]"
      ]
     },
     "metadata": {},
     "output_type": "display_data"
    },
    {
     "data": {
      "application/vnd.jupyter.widget-view+json": {
       "model_id": "",
       "version_major": 2,
       "version_minor": 0
      },
      "text/plain": [
       "29 Contestants:   0%|          | 0.00/1.00M [00:00<?, ?it/s]"
      ]
     },
     "metadata": {},
     "output_type": "display_data"
    },
    {
     "data": {
      "application/vnd.jupyter.widget-view+json": {
       "model_id": "",
       "version_major": 2,
       "version_minor": 0
      },
      "text/plain": [
       "30 Contestants:   0%|          | 0.00/1.00M [00:00<?, ?it/s]"
      ]
     },
     "metadata": {},
     "output_type": "display_data"
    }
   ],
   "source": [
    "for c in contestant_set:\n",
    "\n",
    "    mc_xc = Parallel(n_jobs=-2)(delayed(fiddler_tpir_wheel_xc)(c, 1/2)\n",
    "                                for j in trange(TRIALS, unit_scale=True,\n",
    "                                                desc=str(c) + ' Contestants', \n",
    "                                                leave=False))\n",
    "\n",
    "    win_perc = sum(mc_xc)/TRIALS\n",
    "    contestants.append(c)\n",
    "    register.append(win_perc)"
   ]
  },
  {
   "cell_type": "code",
   "execution_count": 5,
   "id": "c0f65b5a-9106-4c0e-9a75-8ca576525721",
   "metadata": {},
   "outputs": [
    {
     "data": {
      "image/png": "[encoded data removed]",
      "text/plain": [
       "<Figure size 432x288 with 1 Axes>"
      ]
     },
     "metadata": {},
     "output_type": "display_data"
    }
   ],
   "source": [
    "plt.plot(contestants, register)\n",
    "plt.show()"
   ]
  },
  {
   "cell_type": "code",
   "execution_count": 6,
   "id": "f502b4ea-a6a2-4f1a-870a-169c55767c7f",
   "metadata": {},
   "outputs": [
    {
     "data": {
      "text/html": [
       "<style type=\"text/css\">\n",
       "</style>\n",
       "<table id=\"T_c35b8\">\n",
       "  <thead>\n",
       "    <tr>\n",
       "      <th id=\"T_c35b8_level0_col0\" class=\"col_heading level0 col0\" >Contestants</th>\n",
       "      <th id=\"T_c35b8_level0_col1\" class=\"col_heading level0 col1\" >Win_Perc</th>\n",
       "    </tr>\n",
       "  </thead>\n",
       "  <tbody>\n",
       "    <tr>\n",
       "      <td id=\"T_c35b8_row0_col0\" class=\"data row0 col0\" >2</td>\n",
       "      <td id=\"T_c35b8_row0_col1\" class=\"data row0 col1\" >45.293%</td>\n",
       "    </tr>\n",
       "    <tr>\n",
       "      <td id=\"T_c35b8_row1_col0\" class=\"data row1 col0\" >3</td>\n",
       "      <td id=\"T_c35b8_row1_col1\" class=\"data row1 col1\" >29.415%</td>\n",
       "    </tr>\n",
       "    <tr>\n",
       "      <td id=\"T_c35b8_row2_col0\" class=\"data row2 col0\" >4</td>\n",
       "      <td id=\"T_c35b8_row2_col1\" class=\"data row2 col1\" >21.382%</td>\n",
       "    </tr>\n",
       "    <tr>\n",
       "      <td id=\"T_c35b8_row3_col0\" class=\"data row3 col0\" >5</td>\n",
       "      <td id=\"T_c35b8_row3_col1\" class=\"data row3 col1\" >16.676%</td>\n",
       "    </tr>\n",
       "    <tr>\n",
       "      <td id=\"T_c35b8_row4_col0\" class=\"data row4 col0\" >6</td>\n",
       "      <td id=\"T_c35b8_row4_col1\" class=\"data row4 col1\" >13.644%</td>\n",
       "    </tr>\n",
       "    <tr>\n",
       "      <td id=\"T_c35b8_row5_col0\" class=\"data row5 col0\" >7</td>\n",
       "      <td id=\"T_c35b8_row5_col1\" class=\"data row5 col1\" >11.547%</td>\n",
       "    </tr>\n",
       "    <tr>\n",
       "      <td id=\"T_c35b8_row6_col0\" class=\"data row6 col0\" >8</td>\n",
       "      <td id=\"T_c35b8_row6_col1\" class=\"data row6 col1\" >9.956%</td>\n",
       "    </tr>\n",
       "    <tr>\n",
       "      <td id=\"T_c35b8_row7_col0\" class=\"data row7 col0\" >9</td>\n",
       "      <td id=\"T_c35b8_row7_col1\" class=\"data row7 col1\" >8.825%</td>\n",
       "    </tr>\n",
       "    <tr>\n",
       "      <td id=\"T_c35b8_row8_col0\" class=\"data row8 col0\" >10</td>\n",
       "      <td id=\"T_c35b8_row8_col1\" class=\"data row8 col1\" >7.916%</td>\n",
       "    </tr>\n",
       "    <tr>\n",
       "      <td id=\"T_c35b8_row9_col0\" class=\"data row9 col0\" >11</td>\n",
       "      <td id=\"T_c35b8_row9_col1\" class=\"data row9 col1\" >7.132%</td>\n",
       "    </tr>\n",
       "    <tr>\n",
       "      <td id=\"T_c35b8_row10_col0\" class=\"data row10 col0\" >12</td>\n",
       "      <td id=\"T_c35b8_row10_col1\" class=\"data row10 col1\" >6.520%</td>\n",
       "    </tr>\n",
       "    <tr>\n",
       "      <td id=\"T_c35b8_row11_col0\" class=\"data row11 col0\" >13</td>\n",
       "      <td id=\"T_c35b8_row11_col1\" class=\"data row11 col1\" >5.999%</td>\n",
       "    </tr>\n",
       "    <tr>\n",
       "      <td id=\"T_c35b8_row12_col0\" class=\"data row12 col0\" >14</td>\n",
       "      <td id=\"T_c35b8_row12_col1\" class=\"data row12 col1\" >5.589%</td>\n",
       "    </tr>\n",
       "    <tr>\n",
       "      <td id=\"T_c35b8_row13_col0\" class=\"data row13 col0\" >15</td>\n",
       "      <td id=\"T_c35b8_row13_col1\" class=\"data row13 col1\" >5.155%</td>\n",
       "    </tr>\n",
       "    <tr>\n",
       "      <td id=\"T_c35b8_row14_col0\" class=\"data row14 col0\" >16</td>\n",
       "      <td id=\"T_c35b8_row14_col1\" class=\"data row14 col1\" >4.855%</td>\n",
       "    </tr>\n",
       "    <tr>\n",
       "      <td id=\"T_c35b8_row15_col0\" class=\"data row15 col0\" >17</td>\n",
       "      <td id=\"T_c35b8_row15_col1\" class=\"data row15 col1\" >4.537%</td>\n",
       "    </tr>\n",
       "    <tr>\n",
       "      <td id=\"T_c35b8_row16_col0\" class=\"data row16 col0\" >18</td>\n",
       "      <td id=\"T_c35b8_row16_col1\" class=\"data row16 col1\" >4.266%</td>\n",
       "    </tr>\n",
       "    <tr>\n",
       "      <td id=\"T_c35b8_row17_col0\" class=\"data row17 col0\" >19</td>\n",
       "      <td id=\"T_c35b8_row17_col1\" class=\"data row17 col1\" >4.059%</td>\n",
       "    </tr>\n",
       "    <tr>\n",
       "      <td id=\"T_c35b8_row18_col0\" class=\"data row18 col0\" >20</td>\n",
       "      <td id=\"T_c35b8_row18_col1\" class=\"data row18 col1\" >3.868%</td>\n",
       "    </tr>\n",
       "    <tr>\n",
       "      <td id=\"T_c35b8_row19_col0\" class=\"data row19 col0\" >21</td>\n",
       "      <td id=\"T_c35b8_row19_col1\" class=\"data row19 col1\" >3.676%</td>\n",
       "    </tr>\n",
       "    <tr>\n",
       "      <td id=\"T_c35b8_row20_col0\" class=\"data row20 col0\" >22</td>\n",
       "      <td id=\"T_c35b8_row20_col1\" class=\"data row20 col1\" >3.495%</td>\n",
       "    </tr>\n",
       "    <tr>\n",
       "      <td id=\"T_c35b8_row21_col0\" class=\"data row21 col0\" >23</td>\n",
       "      <td id=\"T_c35b8_row21_col1\" class=\"data row21 col1\" >3.344%</td>\n",
       "    </tr>\n",
       "    <tr>\n",
       "      <td id=\"T_c35b8_row22_col0\" class=\"data row22 col0\" >24</td>\n",
       "      <td id=\"T_c35b8_row22_col1\" class=\"data row22 col1\" >3.163%</td>\n",
       "    </tr>\n",
       "    <tr>\n",
       "      <td id=\"T_c35b8_row23_col0\" class=\"data row23 col0\" >25</td>\n",
       "      <td id=\"T_c35b8_row23_col1\" class=\"data row23 col1\" >3.058%</td>\n",
       "    </tr>\n",
       "    <tr>\n",
       "      <td id=\"T_c35b8_row24_col0\" class=\"data row24 col0\" >26</td>\n",
       "      <td id=\"T_c35b8_row24_col1\" class=\"data row24 col1\" >2.944%</td>\n",
       "    </tr>\n",
       "    <tr>\n",
       "      <td id=\"T_c35b8_row25_col0\" class=\"data row25 col0\" >27</td>\n",
       "      <td id=\"T_c35b8_row25_col1\" class=\"data row25 col1\" >2.812%</td>\n",
       "    </tr>\n",
       "    <tr>\n",
       "      <td id=\"T_c35b8_row26_col0\" class=\"data row26 col0\" >28</td>\n",
       "      <td id=\"T_c35b8_row26_col1\" class=\"data row26 col1\" >2.733%</td>\n",
       "    </tr>\n",
       "    <tr>\n",
       "      <td id=\"T_c35b8_row27_col0\" class=\"data row27 col0\" >29</td>\n",
       "      <td id=\"T_c35b8_row27_col1\" class=\"data row27 col1\" >2.621%</td>\n",
       "    </tr>\n",
       "    <tr>\n",
       "      <td id=\"T_c35b8_row28_col0\" class=\"data row28 col0\" >30</td>\n",
       "      <td id=\"T_c35b8_row28_col1\" class=\"data row28 col1\" >2.560%</td>\n",
       "    </tr>\n",
       "  </tbody>\n",
       "</table>\n"
      ],
      "text/plain": [
       "<pandas.io.formats.style.Styler at 0x18a9afbfe10>"
      ]
     },
     "execution_count": 6,
     "metadata": {},
     "output_type": "execute_result"
    }
   ],
   "source": [
    "tpir_df = pd.DataFrame(list(zip(contestants, register)),\n",
    "                       columns=['Contestants', 'Win_Perc'])\n",
    "\n",
    "format_mapping = {\n",
    "    'Contestants': lambda x: f'{x:,}',\n",
    "    'Win_Perc': lambda y: f'{y:,.3%}'\n",
    "}\n",
    "tpir_styled_df = tpir_df.style.format(format_mapping)\n",
    "tpir_styled_df.hide()"
   ]
  }
 ],
 "metadata": {
  "kernelspec": {
   "display_name": "Python 3 (Spyder)",
   "language": "python3",
   "name": "python3"
  },
  "language_info": {
   "codemirror_mode": {
    "name": "ipython",
    "version": 3
   },
   "file_extension": ".py",
   "mimetype": "text/x-python",
   "name": "python",
   "nbconvert_exporter": "python",
   "pygments_lexer": "ipython3",
   "version": "3.11.6"
  }
 },
 "nbformat": 4,
 "nbformat_minor": 5
}
